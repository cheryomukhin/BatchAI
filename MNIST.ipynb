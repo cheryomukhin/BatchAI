{
  "nbformat": 4,
  "nbformat_minor": 0,
  "metadata": {
    "colab": {
      "name": "Ноябрьский курс. Light. Занятие 1. Распознавание рукописных цифр",
      "provenance": [],
      "collapsed_sections": [
        "8OsyUFVULEkG"
      ],
      "include_colab_link": true
    },
    "kernelspec": {
      "name": "python3",
      "display_name": "Python 3"
    },
    "accelerator": "GPU"
  },
  "cells": [
    {
      "cell_type": "markdown",
      "metadata": {
        "id": "view-in-github",
        "colab_type": "text"
      },
      "source": [
        "<a href=\"https://colab.research.google.com/github/cheryomukhin/BatchAI/blob/master/MNIST.ipynb\" target=\"_parent\"><img src=\"https://colab.research.google.com/assets/colab-badge.svg\" alt=\"Open In Colab\"/></a>"
      ]
    },
    {
      "cell_type": "markdown",
      "metadata": {
        "id": "Ah7dy1kFL2H9",
        "colab_type": "text"
      },
      "source": [
        "# Распознавание рукописных цифр из набора данных MNIST с помощью Keras\n",
        "\n",
        "Чтобы запускать и редактировать код, сохраните копию этого ноутбука себе (File->Save a copy in Drive...). Свою копию вы сможете изменять и запускать."
      ]
    },
    {
      "cell_type": "code",
      "metadata": {
        "id": "qrfd6FzSLrE2",
        "colab_type": "code",
        "outputId": "94310290-eaf7-4f5f-caef-7671712f6c67",
        "colab": {
          "base_uri": "https://localhost:8080/",
          "height": 63
        }
      },
      "source": [
        "from tensorflow.keras.datasets import mnist #Библиотека с базой Mnist\n",
        "from tensorflow.keras.models import Sequential #НС прямого распространения\n",
        "from tensorflow.keras.layers import Dense #Полносвязные слой\n",
        "from tensorflow.keras import utils #Утилиты для to_categorical\n",
        "from tensorflow.keras.preprocessing import image #Для отрисовки изображения\n",
        "from google.colab import files #Для загрузки своей картинки\n",
        "import numpy as np #Библиотека работы с массивами\n",
        "import matplotlib.pyplot as plt #Отрисовка изображений\n",
        "from PIL import Image #Отрисовка изображений\n",
        "#Отрисовывать изображения в ноутбуке, а не в консоль или файл\n",
        "%matplotlib inline"
      ],
      "execution_count": 0,
      "outputs": [
        {
          "output_type": "display_data",
          "data": {
            "text/html": [
              "<p style=\"color: red;\">\n",
              "The default version of TensorFlow in Colab will soon switch to TensorFlow 2.x.<br>\n",
              "We recommend you <a href=\"https://www.tensorflow.org/guide/migrate\" target=\"_blank\">upgrade</a> now \n",
              "or ensure your notebook will continue to use TensorFlow 1.x via the <code>%tensorflow_version 1.x</code> magic:\n",
              "<a href=\"https://colab.research.google.com/notebooks/tensorflow_version.ipynb\" target=\"_blank\">more info</a>.</p>\n"
            ],
            "text/plain": [
              "<IPython.core.display.HTML object>"
            ]
          },
          "metadata": {
            "tags": []
          }
        }
      ]
    },
    {
      "cell_type": "markdown",
      "metadata": {
        "id": "xiurjCBVMDTG",
        "colab_type": "text"
      },
      "source": [
        "## Подготовка данных для обучения сети"
      ]
    },
    {
      "cell_type": "markdown",
      "metadata": {
        "id": "1yDF75Cx8VPz",
        "colab_type": "text"
      },
      "source": [
        "**Загружаем набор данных с рукописными цифрами**"
      ]
    },
    {
      "cell_type": "code",
      "metadata": {
        "id": "E5L3LUIi8PDV",
        "colab_type": "code",
        "outputId": "699a3f22-2ff9-4022-d6a2-34b5d18cb30d",
        "colab": {
          "base_uri": "https://localhost:8080/",
          "height": 51
        }
      },
      "source": [
        "#Загрузка данных Mnist\n",
        "#x_train_org - входные картинки, обучающая выбрка\n",
        "#y_train_org - выходные индексы, обучающая выборка\n",
        "#x_test_org - входные картинки, тестовая выбрка\n",
        "#y_test_org - выходные индексы, тестовая выборка\n",
        "(x_train_org, y_train_org), (x_test_org, y_test_org) = mnist.load_data()"
      ],
      "execution_count": 0,
      "outputs": [
        {
          "output_type": "stream",
          "text": [
            "Downloading data from https://storage.googleapis.com/tensorflow/tf-keras-datasets/mnist.npz\n",
            "11493376/11490434 [==============================] - 0s 0us/step\n"
          ],
          "name": "stdout"
        }
      ]
    },
    {
      "cell_type": "code",
      "metadata": {
        "id": "BRTaRQQvM0ab",
        "colab_type": "code",
        "outputId": "8b205b50-073e-40c8-8619-084c00f892f9",
        "colab": {
          "base_uri": "https://localhost:8080/",
          "height": 85
        }
      },
      "source": [
        "print('Размер обучающей выборки - картинок -', x_train_org.shape)\n",
        "print('Размер обучающей выборки - верных ответов -', y_train_org.shape)\n",
        "print('Размер тестовой выборки - картинок -', x_test_org.shape)\n",
        "print('Размер тестовой выборки - верных ответов -', y_test_org.shape)"
      ],
      "execution_count": 0,
      "outputs": [
        {
          "output_type": "stream",
          "text": [
            "Размер обучающей выборки - картинок - (60000, 28, 28)\n",
            "Размер обучающей выборки - верных ответов - (60000,)\n",
            "Размер тестовой выборки - картинок - (10000, 28, 28)\n",
            "Размер тестовой выборки - верных ответов - (10000,)\n"
          ],
          "name": "stdout"
        }
      ]
    },
    {
      "cell_type": "code",
      "metadata": {
        "id": "ga0DtPJQVkEh",
        "colab_type": "code",
        "outputId": "7fb0cb46-671a-4852-c4cd-84ef0ad3920f",
        "colab": {
          "base_uri": "https://localhost:8080/",
          "height": 265
        }
      },
      "source": [
        "n = 15 #Номер картинки\n",
        "\n",
        "#Отрисовка картинки\n",
        "#Image.fromarray - создание картинки по массиву\n",
        "#.convert('RGBA') - преобразование в RGBA формат\n",
        "plt.imshow(Image.fromarray(x_train_org[n]).convert('RGBA'))\n",
        "plt.show()"
      ],
      "execution_count": 0,
      "outputs": [
        {
          "output_type": "display_data",
          "data": {
            "image/png": "[encoded data removed]",
            "text/plain": [
              "<Figure size 432x288 with 1 Axes>"
            ]
          },
          "metadata": {
            "tags": []
          }
        }
      ]
    },
    {
      "cell_type": "markdown",
      "metadata": {
        "id": "7uXTnIojJLbl",
        "colab_type": "text"
      },
      "source": [
        "**Преобразование размерности данных в наборе**"
      ]
    },
    {
      "cell_type": "code",
      "metadata": {
        "id": "GBAqLKjGJJ-V",
        "colab_type": "code",
        "colab": {}
      },
      "source": [
        "#Меняем формат входных картинок с 28х28 на 784х1\n",
        "#Это нужно для удобства работы с полносвязным слоем (Dense)\n",
        "#С двумерной картинкой мы будем работать в будущем с помощью свёрточных сетей\n",
        "#Функция .reshape меняет размер массива\n",
        "x_train = x_train_org.reshape(60000, 784)\n",
        "x_test = x_test_org.reshape(10000, 784)"
      ],
      "execution_count": 0,
      "outputs": []
    },
    {
      "cell_type": "code",
      "metadata": {
        "id": "xtycl0LmO9GU",
        "colab_type": "code",
        "outputId": "6acc5904-cfa8-4a65-c5ce-84e16d044f4e",
        "colab": {
          "base_uri": "https://localhost:8080/",
          "height": 51
        }
      },
      "source": [
        "print('Размер обучающей выборки - картинок -', x_train.shape)\n",
        "print('Размер тестовой выборки - картинок -', x_test.shape)"
      ],
      "execution_count": 0,
      "outputs": [
        {
          "output_type": "stream",
          "text": [
            "Размер обучающей выборки - картинок - (60000, 784)\n",
            "Размер тестовой выборки - картинок - (10000, 784)\n"
          ],
          "name": "stdout"
        }
      ]
    },
    {
      "cell_type": "code",
      "metadata": {
        "id": "Rm44wnNwPPpT",
        "colab_type": "code",
        "outputId": "df91a991-adc9-4db1-b61b-136602467f7d",
        "colab": {
          "base_uri": "https://localhost:8080/",
          "height": 221
        }
      },
      "source": [
        "print(x_train[0, 300:500])"
      ],
      "execution_count": 0,
      "outputs": [
        {
          "output_type": "stream",
          "text": [
            "[  0   0   0   0   0   0   0   0   0   0   0   0   0   0   0   0   0   0\n",
            "   0 139 253 190   2   0   0   0   0   0   0   0   0   0   0   0   0   0\n",
            "   0   0   0   0   0   0   0   0   0   0   0  11 190 253  70   0   0   0\n",
            "   0   0   0   0   0   0   0   0   0   0   0   0   0   0   0   0   0   0\n",
            "   0   0   0   0  35 241 225 160 108   1   0   0   0   0   0   0   0   0\n",
            "   0   0   0   0   0   0   0   0   0   0   0   0   0   0   0  81 240 253\n",
            " 253 119  25   0   0   0   0   0   0   0   0   0   0   0   0   0   0   0\n",
            "   0   0   0   0   0   0   0   0  45 186 253 253 150  27   0   0   0   0\n",
            "   0   0   0   0   0   0   0   0   0   0   0   0   0   0   0   0   0   0\n",
            "   0  16  93 252 253 187   0   0   0   0   0   0   0   0   0   0   0   0\n",
            "   0   0   0   0   0   0   0   0   0   0   0   0   0 249 253 249  64   0\n",
            "   0   0]\n"
          ],
          "name": "stdout"
        }
      ]
    },
    {
      "cell_type": "markdown",
      "metadata": {
        "id": "hDaHO5LgJYxU",
        "colab_type": "text"
      },
      "source": [
        "**Нормализация данных**"
      ]
    },
    {
      "cell_type": "code",
      "metadata": {
        "id": "rscaAuBNJdq9",
        "colab_type": "code",
        "colab": {}
      },
      "source": [
        "#Нормализуем входные картинки\n",
        "#НС лучше работают, если данные нормаваны от 0 до 1\n",
        "#Сейчас значения во входных картинках от 0 до 255\n",
        "#Надо разделить картинки на 255\n",
        "#И сначала преобразовать картинки в тип float (цифры с плавающей точкой)\n",
        "x_train = x_train.astype('float32')\n",
        "x_train = x_train / 255\n",
        "x_test = x_test.astype('float32')\n",
        "x_test = x_test / 255 "
      ],
      "execution_count": 0,
      "outputs": []
    },
    {
      "cell_type": "code",
      "metadata": {
        "id": "KDFNiz5oPsT6",
        "colab_type": "code",
        "outputId": "66306355-b808-4f13-e212-1e941b90f615",
        "colab": {
          "base_uri": "https://localhost:8080/",
          "height": 595
        }
      },
      "source": [
        "print(x_train[0, 300:500])"
      ],
      "execution_count": 0,
      "outputs": [
        {
          "output_type": "stream",
          "text": [
            "[0.         0.         0.         0.         0.         0.\n",
            " 0.         0.         0.         0.         0.         0.\n",
            " 0.         0.         0.         0.         0.         0.\n",
            " 0.         0.54509807 0.99215686 0.74509805 0.00784314 0.\n",
            " 0.         0.         0.         0.         0.         0.\n",
            " 0.         0.         0.         0.         0.         0.\n",
            " 0.         0.         0.         0.         0.         0.\n",
            " 0.         0.         0.         0.         0.         0.04313726\n",
            " 0.74509805 0.99215686 0.27450982 0.         0.         0.\n",
            " 0.         0.         0.         0.         0.         0.\n",
            " 0.         0.         0.         0.         0.         0.\n",
            " 0.         0.         0.         0.         0.         0.\n",
            " 0.         0.         0.         0.         0.13725491 0.94509804\n",
            " 0.88235295 0.627451   0.42352942 0.00392157 0.         0.\n",
            " 0.         0.         0.         0.         0.         0.\n",
            " 0.         0.         0.         0.         0.         0.\n",
            " 0.         0.         0.         0.         0.         0.\n",
            " 0.         0.         0.         0.31764707 0.9411765  0.99215686\n",
            " 0.99215686 0.46666667 0.09803922 0.         0.         0.\n",
            " 0.         0.         0.         0.         0.         0.\n",
            " 0.         0.         0.         0.         0.         0.\n",
            " 0.         0.         0.         0.         0.         0.\n",
            " 0.         0.         0.1764706  0.7294118  0.99215686 0.99215686\n",
            " 0.5882353  0.10588235 0.         0.         0.         0.\n",
            " 0.         0.         0.         0.         0.         0.\n",
            " 0.         0.         0.         0.         0.         0.\n",
            " 0.         0.         0.         0.         0.         0.\n",
            " 0.         0.0627451  0.3647059  0.9882353  0.99215686 0.73333335\n",
            " 0.         0.         0.         0.         0.         0.\n",
            " 0.         0.         0.         0.         0.         0.\n",
            " 0.         0.         0.         0.         0.         0.\n",
            " 0.         0.         0.         0.         0.         0.\n",
            " 0.         0.9764706  0.99215686 0.9764706  0.2509804  0.\n",
            " 0.         0.        ]\n"
          ],
          "name": "stdout"
        }
      ]
    },
    {
      "cell_type": "markdown",
      "metadata": {
        "id": "KRcMlNzqJk1t",
        "colab_type": "text"
      },
      "source": [
        "**Работа с правильными ответами**"
      ]
    },
    {
      "cell_type": "code",
      "metadata": {
        "id": "A5lKe_syJqPu",
        "colab_type": "code",
        "outputId": "54956265-5844-484f-983d-8133ad395f3d",
        "colab": {
          "base_uri": "https://localhost:8080/",
          "height": 34
        }
      },
      "source": [
        "#Выводим пример индекса в выходных данных\n",
        "print(y_train_org[n])"
      ],
      "execution_count": 0,
      "outputs": [
        {
          "output_type": "stream",
          "text": [
            "7\n"
          ],
          "name": "stdout"
        }
      ]
    },
    {
      "cell_type": "markdown",
      "metadata": {
        "id": "zqJ9GA1kJxBF",
        "colab_type": "text"
      },
      "source": [
        "**Преобразуем метки в формат one hot encoding**"
      ]
    },
    {
      "cell_type": "code",
      "metadata": {
        "id": "zQnasUyyJ3cG",
        "colab_type": "code",
        "colab": {}
      },
      "source": [
        "#НС сложно работать с чистыми индексами от 0 до 9\n",
        "#Ей проще работать с данными в формате one hot encoding\n",
        "#Это формат из 10 цифр - все 0 и одна 1 там, где правильный ответ\n",
        "#Например\n",
        "#Индекс 0 - это [1 0 0 0 0 0 0 0 0 0]\n",
        "#Индекс 2 - это [0 0 1 0 0 0 0 0 0 0]\n",
        "#Индекс 9 - это [0 0 0 0 0 0 0 0 0 1]\n",
        "#Это делается функцией utils.to_categorical(\n",
        "#Второй параметр - это количество классов, у нас - 10\n",
        "y_train = utils.to_categorical(y_train_org, 10)\n",
        "y_test = utils.to_categorical(y_test_org, 10)"
      ],
      "execution_count": 0,
      "outputs": []
    },
    {
      "cell_type": "code",
      "metadata": {
        "id": "aT4HroiOQM9C",
        "colab_type": "code",
        "outputId": "5e4e920d-1de5-4346-c371-9b0b335d6d01",
        "colab": {
          "base_uri": "https://localhost:8080/",
          "height": 51
        }
      },
      "source": [
        "#Выводим пример индекса в выходных данных в формате ohe\n",
        "print(y_train_org[n])\n",
        "print(y_train[n])"
      ],
      "execution_count": 0,
      "outputs": [
        {
          "output_type": "stream",
          "text": [
            "7\n",
            "[0. 0. 0. 0. 0. 0. 0. 1. 0. 0.]\n"
          ],
          "name": "stdout"
        }
      ]
    },
    {
      "cell_type": "markdown",
      "metadata": {
        "id": "KfuqlyjHJ_ye",
        "colab_type": "text"
      },
      "source": [
        "**Правильный ответ в формате one hot encoding**"
      ]
    },
    {
      "cell_type": "code",
      "metadata": {
        "id": "9zUfd1aeKH3e",
        "colab_type": "code",
        "outputId": "201862fc-197b-404c-f10b-13b4a92390dc",
        "colab": {
          "base_uri": "https://localhost:8080/",
          "height": 34
        }
      },
      "source": [
        "#Выводим размер y_train\n",
        "#60 тысяч примеров, каждый размера 10 (так как 10 классов)\n",
        "print(y_train.shape)"
      ],
      "execution_count": 0,
      "outputs": [
        {
          "output_type": "stream",
          "text": [
            "(60000, 10)\n"
          ],
          "name": "stdout"
        }
      ]
    },
    {
      "cell_type": "code",
      "metadata": {
        "id": "KWYwnS5giydM",
        "colab_type": "code",
        "outputId": "3e47add6-d478-4dde-cfe6-cb845c871939",
        "colab": {
          "base_uri": "https://localhost:8080/",
          "height": 34
        }
      },
      "source": [
        "#Выводим пример одного выходного вектора\n",
        "print(y_train[n])"
      ],
      "execution_count": 0,
      "outputs": [
        {
          "output_type": "stream",
          "text": [
            "[0. 0. 0. 0. 0. 0. 0. 1. 0. 0.]\n"
          ],
          "name": "stdout"
        }
      ]
    },
    {
      "cell_type": "markdown",
      "metadata": {
        "id": "BmTr_lXTKNbN",
        "colab_type": "text"
      },
      "source": [
        "## Создаем нейронную сеть"
      ]
    },
    {
      "cell_type": "markdown",
      "metadata": {
        "id": "fV_igNZuMNXe",
        "colab_type": "text"
      },
      "source": [
        "**Создаем последовательную модель**"
      ]
    },
    {
      "cell_type": "code",
      "metadata": {
        "id": "D-jPYYxIKQkt",
        "colab_type": "code",
        "colab": {}
      },
      "source": [
        "#Создаём сеть прямого распространения\n",
        "#Пока она пустая\n",
        "#Подробнее на https://keras.io/models/sequential/\n",
        "model = Sequential()"
      ],
      "execution_count": 0,
      "outputs": []
    },
    {
      "cell_type": "markdown",
      "metadata": {
        "id": "Q3QzIVtBMQRG",
        "colab_type": "text"
      },
      "source": [
        "**Добавляем уровни сети**\n"
      ]
    },
    {
      "cell_type": "code",
      "metadata": {
        "id": "kYVSvpNIMSnG",
        "colab_type": "code",
        "colab": {}
      },
      "source": [
        "#Добавляем в сеть полносвязные слои\n",
        "#Dense - полносвязный слой, подробнее на https://keras.io/layers/core/\n",
        "#Первый парамерт - количество нейронок, обычно от 2 до 2000, подбирается в ходе исследования\n",
        "#input_dim - размер входного вектора, указывается только в первом слое сети\n",
        "#activation - активационная функция нейронов данного слоя\n",
        "#relu - одна из активационных функций, подробнее на https://keras.io/activations/\n",
        "model.add(Dense(800, input_dim=784, activation=\"relu\"))\n",
        "model.add(Dense(400, activation=\"relu\"))\n",
        "\n",
        "#Выходной полносвязный слой, 10 нейронов (по количеству рукописных цифр)\n",
        "#activation=\"softmax\" - активационная функция, \n",
        "#которая делает сумму всех значений нейронов слой, равной 1\n",
        "#Подробнее https://keras.io/activations/\n",
        "model.add(Dense(10, activation=\"softmax\"))"
      ],
      "execution_count": 0,
      "outputs": []
    },
    {
      "cell_type": "markdown",
      "metadata": {
        "id": "G__m76T-KWhd",
        "colab_type": "text"
      },
      "source": [
        "**Компилируем сеть**"
      ]
    },
    {
      "cell_type": "code",
      "metadata": {
        "id": "PTcbSxchKZjd",
        "colab_type": "code",
        "outputId": "b542b744-501a-4b80-8cdc-2e40ef8c3ae3",
        "colab": {
          "base_uri": "https://localhost:8080/",
          "height": 272
        }
      },
      "source": [
        "#Нейронку надо \"скомпилировать\"\n",
        "#При компиляции мы задаём несколько параметров\n",
        "#loss - функция ошибки, которую оптимизирует сеть\n",
        "#categorical_crossentropy - одна из функций ошибки, подходящая для классификации нескольких классов, подробнее https://keras.io/activations/\n",
        "#optimizer - алгоритм обучения НС\n",
        "#adam - один из алгоритмов обучения НС, подробнее https://keras.io/optimizers/\n",
        "#metrics - метрика качества обучения, измеряется после каждой эпохи обучения\n",
        "#accuracy - метрика, процент правильно распознанных примеров, подробнее https://keras.io/metrics/\n",
        "model.compile(loss=\"categorical_crossentropy\", optimizer=\"adam\", metrics=[\"accuracy\"])\n",
        "\n",
        "#Вывод структуры нейронки\n",
        "print(model.summary())"
      ],
      "execution_count": 0,
      "outputs": [
        {
          "output_type": "stream",
          "text": [
            "Model: \"sequential_3\"\n",
            "_________________________________________________________________\n",
            "Layer (type)                 Output Shape              Param #   \n",
            "=================================================================\n",
            "dense_6 (Dense)              (None, 800)               628000    \n",
            "_________________________________________________________________\n",
            "dense_7 (Dense)              (None, 400)               320400    \n",
            "_________________________________________________________________\n",
            "dense_8 (Dense)              (None, 10)                4010      \n",
            "=================================================================\n",
            "Total params: 952,410\n",
            "Trainable params: 952,410\n",
            "Non-trainable params: 0\n",
            "_________________________________________________________________\n",
            "None\n"
          ],
          "name": "stdout"
        }
      ]
    },
    {
      "cell_type": "markdown",
      "metadata": {
        "id": "lspCHiaCKl72",
        "colab_type": "text"
      },
      "source": [
        "## Обучаем нейронную сеть"
      ]
    },
    {
      "cell_type": "code",
      "metadata": {
        "id": "H6EIXu1dKoju",
        "colab_type": "code",
        "outputId": "a800eaa4-32e9-4636-b0f7-25b188d8fac4",
        "colab": {
          "base_uri": "https://localhost:8080/",
          "height": 731
        }
      },
      "source": [
        "#fit - функция обучения нейронки\n",
        "#x_train, y_train - обучающая выборка, входные и выходные данные\n",
        "#batch_size - размер батча, количество примеров, которое обрабатывает нейронка, перед одним изменением весов\n",
        "#epochs - количество эпох, когда нейронка обучается на всех примерах выбрки\n",
        "#verbose - 0 - не визуализировать ход обучения, 1 - визуализировать\n",
        "#validation_split - процент данных, на которых сеть не обучается, на которых мы измеряем точность распознавания\n",
        "model.fit(x_train, y_train, batch_size=200, epochs=20, verbose=1, validation_split=0.2)"
      ],
      "execution_count": 0,
      "outputs": [
        {
          "output_type": "stream",
          "text": [
            "Train on 48000 samples, validate on 12000 samples\n",
            "Epoch 1/20\n",
            "48000/48000 [==============================] - 1s 22us/sample - loss: 0.2582 - acc: 0.9256 - val_loss: 0.1274 - val_acc: 0.9628\n",
            "Epoch 2/20\n",
            "48000/48000 [==============================] - 1s 20us/sample - loss: 0.0888 - acc: 0.9731 - val_loss: 0.0878 - val_acc: 0.9728\n",
            "Epoch 3/20\n",
            "48000/48000 [==============================] - 1s 19us/sample - loss: 0.0520 - acc: 0.9841 - val_loss: 0.0985 - val_acc: 0.9698\n",
            "Epoch 4/20\n",
            "48000/48000 [==============================] - 1s 20us/sample - loss: 0.0363 - acc: 0.9881 - val_loss: 0.0865 - val_acc: 0.9747\n",
            "Epoch 5/20\n",
            "48000/48000 [==============================] - 1s 20us/sample - loss: 0.0247 - acc: 0.9924 - val_loss: 0.0769 - val_acc: 0.9793\n",
            "Epoch 6/20\n",
            "48000/48000 [==============================] - 1s 19us/sample - loss: 0.0192 - acc: 0.9934 - val_loss: 0.0906 - val_acc: 0.9747\n",
            "Epoch 7/20\n",
            "48000/48000 [==============================] - 1s 20us/sample - loss: 0.0117 - acc: 0.9964 - val_loss: 0.0996 - val_acc: 0.9743\n",
            "Epoch 8/20\n",
            "48000/48000 [==============================] - 1s 19us/sample - loss: 0.0104 - acc: 0.9971 - val_loss: 0.0951 - val_acc: 0.9775\n",
            "Epoch 9/20\n",
            "48000/48000 [==============================] - 1s 20us/sample - loss: 0.0125 - acc: 0.9957 - val_loss: 0.0892 - val_acc: 0.9787\n",
            "Epoch 10/20\n",
            "48000/48000 [==============================] - 1s 20us/sample - loss: 0.0131 - acc: 0.9953 - val_loss: 0.0932 - val_acc: 0.9793\n",
            "Epoch 11/20\n",
            "48000/48000 [==============================] - 1s 20us/sample - loss: 0.0137 - acc: 0.9954 - val_loss: 0.1203 - val_acc: 0.9742\n",
            "Epoch 12/20\n",
            "48000/48000 [==============================] - 1s 19us/sample - loss: 0.0118 - acc: 0.9959 - val_loss: 0.0942 - val_acc: 0.9800\n",
            "Epoch 13/20\n",
            "48000/48000 [==============================] - 1s 20us/sample - loss: 0.0068 - acc: 0.9977 - val_loss: 0.1025 - val_acc: 0.9798\n",
            "Epoch 14/20\n",
            "48000/48000 [==============================] - 1s 19us/sample - loss: 0.0102 - acc: 0.9965 - val_loss: 0.1202 - val_acc: 0.9732\n",
            "Epoch 15/20\n",
            "48000/48000 [==============================] - 1s 20us/sample - loss: 0.0055 - acc: 0.9981 - val_loss: 0.1178 - val_acc: 0.9780\n",
            "Epoch 16/20\n",
            "48000/48000 [==============================] - 1s 19us/sample - loss: 0.0082 - acc: 0.9971 - val_loss: 0.1278 - val_acc: 0.9756\n",
            "Epoch 17/20\n",
            "48000/48000 [==============================] - 1s 19us/sample - loss: 0.0146 - acc: 0.9951 - val_loss: 0.1001 - val_acc: 0.9801\n",
            "Epoch 18/20\n",
            "48000/48000 [==============================] - 1s 20us/sample - loss: 0.0029 - acc: 0.9990 - val_loss: 0.1079 - val_acc: 0.9814\n",
            "Epoch 19/20\n",
            "48000/48000 [==============================] - 1s 19us/sample - loss: 0.0010 - acc: 0.9997 - val_loss: 0.1095 - val_acc: 0.9817\n",
            "Epoch 20/20\n",
            "48000/48000 [==============================] - 1s 20us/sample - loss: 0.0041 - acc: 0.9986 - val_loss: 0.1255 - val_acc: 0.9762\n"
          ],
          "name": "stdout"
        },
        {
          "output_type": "execute_result",
          "data": {
            "text/plain": [
              "<tensorflow.python.keras.callbacks.History at 0x7f1e7c9f4be0>"
            ]
          },
          "metadata": {
            "tags": []
          },
          "execution_count": 73
        }
      ]
    },
    {
      "cell_type": "markdown",
      "metadata": {
        "id": "8OsyUFVULEkG",
        "colab_type": "text"
      },
      "source": [
        "## Сохраняем обученную нейронную сеть"
      ]
    },
    {
      "cell_type": "markdown",
      "metadata": {
        "id": "3H4ivOt5H2rm",
        "colab_type": "text"
      },
      "source": [
        "Записываем обученную нейронную сеть в файл `mnist_dense.h5`"
      ]
    },
    {
      "cell_type": "code",
      "metadata": {
        "id": "jCcYrRwfLYg-",
        "colab_type": "code",
        "colab": {}
      },
      "source": [
        "#Сохраняем нейронку в файл\n",
        "model.save(\"mnist_dense.h5\")\n"
      ],
      "execution_count": 0,
      "outputs": []
    },
    {
      "cell_type": "markdown",
      "metadata": {
        "id": "ulInadIzIBj_",
        "colab_type": "text"
      },
      "source": [
        "Проверяем, что файл сохранился"
      ]
    },
    {
      "cell_type": "code",
      "metadata": {
        "id": "DFOL85B1IEgO",
        "colab_type": "code",
        "outputId": "aecfd4d3-ee41-471c-fdcb-27cda6a683c1",
        "colab": {
          "base_uri": "https://localhost:8080/",
          "height": 35
        }
      },
      "source": [
        "#Выводим на экран список текущих файлов\n",
        "!ls"
      ],
      "execution_count": 0,
      "outputs": [
        {
          "output_type": "stream",
          "text": [
            "mnist_dense.h5\tsample_data\n"
          ],
          "name": "stdout"
        }
      ]
    },
    {
      "cell_type": "markdown",
      "metadata": {
        "id": "52MAtyzWGKAC",
        "colab_type": "text"
      },
      "source": [
        "**Сохраняем файлы на локальный компьютер**"
      ]
    },
    {
      "cell_type": "code",
      "metadata": {
        "id": "0etc3S-PGOuy",
        "colab_type": "code",
        "colab": {}
      },
      "source": [
        "#Скачиваем файл локально на компьютер\n",
        "files.download(\"mnist_dense.h5\")"
      ],
      "execution_count": 0,
      "outputs": []
    },
    {
      "cell_type": "markdown",
      "metadata": {
        "id": "pR_nstTJIRTc",
        "colab_type": "text"
      },
      "source": [
        "Если хотите использовать обученную нейронную сеть на своем компьютере:\n",
        "\n",
        "```\n",
        "from keras.models import load_model\n",
        "model = load_model('mnist_dense.h5')\n",
        "```"
      ]
    },
    {
      "cell_type": "markdown",
      "metadata": {
        "id": "7vMx5V5QMYlW",
        "colab_type": "text"
      },
      "source": [
        "## Используем сеть для распознавания рукописных цифр"
      ]
    },
    {
      "cell_type": "code",
      "metadata": {
        "id": "-AGygAcPMd0G",
        "colab_type": "code",
        "colab": {}
      },
      "source": [
        "#Номер тестовой цифры, которую будем распознавать\n",
        "n_rec = 1001"
      ],
      "execution_count": 0,
      "outputs": []
    },
    {
      "cell_type": "code",
      "metadata": {
        "id": "TT4Ofqx1WTCq",
        "colab_type": "code",
        "outputId": "721e19e8-852d-4880-8c7e-59e62d30ac25",
        "colab": {
          "base_uri": "https://localhost:8080/",
          "height": 265
        }
      },
      "source": [
        "plt.imshow(Image.fromarray(x_test_org[n_rec]).convert('RGBA'))\n",
        "plt.show()"
      ],
      "execution_count": 0,
      "outputs": [
        {
          "output_type": "display_data",
          "data": {
            "image/png": "[encoded data removed]",
            "text/plain": [
              "<Figure size 432x288 with 1 Axes>"
            ]
          },
          "metadata": {
            "tags": []
          }
        }
      ]
    },
    {
      "cell_type": "markdown",
      "metadata": {
        "id": "Lnft8V55M0Rc",
        "colab_type": "text"
      },
      "source": [
        "**Меняем размерность изображения и нормализуем его**"
      ]
    },
    {
      "cell_type": "code",
      "metadata": {
        "id": "UKFWqSHtM7Nf",
        "colab_type": "code",
        "outputId": "dfb9bfe4-3ac9-4853-d050-89433ba53af0",
        "colab": {
          "base_uri": "https://localhost:8080/",
          "height": 34
        }
      },
      "source": [
        "#Выбираем нужную картинку из тестовой выборки\n",
        "x = x_test[n_rec]\n",
        "print(x.shape)"
      ],
      "execution_count": 0,
      "outputs": [
        {
          "output_type": "stream",
          "text": [
            "(784,)\n"
          ],
          "name": "stdout"
        }
      ]
    },
    {
      "cell_type": "code",
      "metadata": {
        "id": "hqjqyLTuZqhQ",
        "colab_type": "code",
        "outputId": "bb260b26-0b34-424e-e338-cb4c141c5beb",
        "colab": {
          "base_uri": "https://localhost:8080/",
          "height": 34
        }
      },
      "source": [
        "#Добавляем одну размерность в конце, чтобы нейронка могла распознать пример\n",
        "#Потому что нейронка принимает именно массов примеров для распознавания\n",
        "#Мы делаем массив из одного примеры\n",
        "x = np.expand_dims(x, axis=0)\n",
        "print(x.shape)"
      ],
      "execution_count": 0,
      "outputs": [
        {
          "output_type": "stream",
          "text": [
            "(1, 784)\n"
          ],
          "name": "stdout"
        }
      ]
    },
    {
      "cell_type": "markdown",
      "metadata": {
        "id": "bMruIcf2NHlN",
        "colab_type": "text"
      },
      "source": [
        "**Запускаем распознавание**"
      ]
    },
    {
      "cell_type": "code",
      "metadata": {
        "id": "Ap72-9_kNKU2",
        "colab_type": "code",
        "colab": {}
      },
      "source": [
        "#Распознаём ннаш пример\n",
        "prediction = model.predict(x)"
      ],
      "execution_count": 0,
      "outputs": []
    },
    {
      "cell_type": "markdown",
      "metadata": {
        "id": "2Gldpmn2NQ6-",
        "colab_type": "text"
      },
      "source": [
        "**Печатаем результаты распознавания**"
      ]
    },
    {
      "cell_type": "code",
      "metadata": {
        "id": "P7opRiSZNUku",
        "colab_type": "code",
        "outputId": "44b6f13b-861e-41ab-c413-c6b62bdadd1a",
        "colab": {
          "base_uri": "https://localhost:8080/",
          "height": 68
        }
      },
      "source": [
        "#Выводим результат, это 10 цифр\n",
        "#Сумма значений равна 1, так как финальный слой с активационной функций softmax\n",
        "print(prediction)\n",
        "print(prediction.shape)"
      ],
      "execution_count": 0,
      "outputs": [
        {
          "output_type": "stream",
          "text": [
            "[[1.0000000e+00 2.7653325e-14 1.9480432e-13 2.0369833e-18 2.7517303e-15\n",
            "  4.7567765e-15 6.0519513e-11 3.8183445e-15 1.9425987e-18 1.0988106e-12]]\n",
            "(1, 10)\n"
          ],
          "name": "stdout"
        }
      ]
    },
    {
      "cell_type": "markdown",
      "metadata": {
        "id": "LQTiyEM3NfRG",
        "colab_type": "text"
      },
      "source": [
        "**Преобразуем результаты из формата one hot encoding**"
      ]
    },
    {
      "cell_type": "code",
      "metadata": {
        "id": "XVC_dTGqNohG",
        "colab_type": "code",
        "outputId": "4f5f4c49-8d3e-42f1-eeff-0801f75a825d",
        "colab": {
          "base_uri": "https://localhost:8080/",
          "height": 34
        }
      },
      "source": [
        "#Получаем индекс самого большого элемента\n",
        "#Это итоговая цифра, которую распознала сеть\n",
        "prediction = np.argmax(prediction)\n",
        "print(prediction)"
      ],
      "execution_count": 0,
      "outputs": [
        {
          "output_type": "stream",
          "text": [
            "0\n"
          ],
          "name": "stdout"
        }
      ]
    },
    {
      "cell_type": "markdown",
      "metadata": {
        "id": "zJy8tKjuNyD2",
        "colab_type": "text"
      },
      "source": [
        "**Печатаем правильный ответ**"
      ]
    },
    {
      "cell_type": "code",
      "metadata": {
        "id": "0zoGlCZWN2Id",
        "colab_type": "code",
        "outputId": "b802ef8f-b879-43f9-e451-56d87c3d7ed7",
        "colab": {
          "base_uri": "https://localhost:8080/",
          "height": 34
        }
      },
      "source": [
        "#выводим правильный ответ, для сравнения\n",
        "print(y_test_org[n_rec])"
      ],
      "execution_count": 0,
      "outputs": [
        {
          "output_type": "stream",
          "text": [
            "0\n"
          ],
          "name": "stdout"
        }
      ]
    },
    {
      "cell_type": "code",
      "metadata": {
        "id": "HANZSTRXaf_G",
        "colab_type": "code",
        "colab": {}
      },
      "source": [
        "pred = model.predict(x_test)"
      ],
      "execution_count": 0,
      "outputs": []
    },
    {
      "cell_type": "code",
      "metadata": {
        "id": "MY-cvqQuakye",
        "colab_type": "code",
        "outputId": "25ae16f6-f50f-4ae8-c4f3-709e856eeff4",
        "colab": {
          "base_uri": "https://localhost:8080/",
          "height": 34
        }
      },
      "source": [
        "print(pred.shape)"
      ],
      "execution_count": 0,
      "outputs": [
        {
          "output_type": "stream",
          "text": [
            "(10000, 10)\n"
          ],
          "name": "stdout"
        }
      ]
    },
    {
      "cell_type": "code",
      "metadata": {
        "id": "ftEUu0FRa2eb",
        "colab_type": "code",
        "outputId": "217d39a7-dc28-4c25-ec22-361e9343fe4e",
        "colab": {
          "base_uri": "https://localhost:8080/",
          "height": 527
        }
      },
      "source": [
        "print(pred[:10,:])"
      ],
      "execution_count": 0,
      "outputs": [
        {
          "output_type": "stream",
          "text": [
            "[[6.77447422e-16 2.51881144e-13 1.50728899e-15 2.21278294e-14\n",
            "  1.44239553e-17 3.31805205e-17 1.09987565e-20 1.00000000e+00\n",
            "  2.69137853e-18 1.70704347e-12]\n",
            " [4.41095468e-18 1.36786311e-11 1.00000000e+00 5.83028602e-21\n",
            "  2.84383444e-25 1.39938846e-25 1.89955194e-20 5.85484435e-22\n",
            "  6.43441697e-20 2.02155499e-26]\n",
            " [2.25798286e-12 1.00000000e+00 2.28404257e-11 2.29823464e-16\n",
            "  1.77358506e-09 3.42160328e-13 2.60943385e-11 5.28627897e-09\n",
            "  2.38432185e-09 3.99270359e-14]\n",
            " [1.00000000e+00 5.59387640e-14 1.65392457e-11 1.04260177e-19\n",
            "  1.33541331e-13 1.10617666e-16 6.03221015e-11 2.64405417e-14\n",
            "  2.20031366e-17 7.45245472e-14]\n",
            " [3.50278765e-15 7.15428803e-16 5.48657841e-15 9.25679022e-22\n",
            "  1.00000000e+00 8.43883457e-20 1.80551442e-14 9.13613586e-13\n",
            "  2.12814411e-20 3.68126374e-13]\n",
            " [2.04509370e-13 1.00000000e+00 8.12418438e-14 3.84599909e-17\n",
            "  6.51090570e-10 3.67455863e-16 4.58457735e-14 5.48957040e-08\n",
            "  4.00430210e-11 1.42323971e-15]\n",
            " [1.14944031e-14 1.17016105e-10 1.09289077e-13 1.74729895e-15\n",
            "  1.00000000e+00 8.52359795e-13 3.82222493e-13 1.33004927e-10\n",
            "  5.85209170e-09 2.03839190e-09]\n",
            " [1.90903855e-11 4.12434975e-09 7.90009669e-10 1.24015796e-05\n",
            "  4.70167960e-10 6.55005028e-09 4.01438594e-14 1.53532568e-07\n",
            "  2.18109086e-09 9.99987483e-01]\n",
            " [7.40502815e-09 2.41538567e-09 7.38305334e-06 4.10099021e-09\n",
            "  2.52998658e-02 4.89842780e-02 9.25696790e-01 9.38170097e-11\n",
            "  8.44785291e-07 1.09006496e-05]\n",
            " [1.70988561e-15 6.02676944e-15 6.80835281e-18 2.21187027e-11\n",
            "  9.79889414e-09 5.81639695e-15 2.04794462e-19 1.18373258e-07\n",
            "  3.64482966e-12 9.99999881e-01]]\n"
          ],
          "name": "stdout"
        }
      ]
    },
    {
      "cell_type": "code",
      "metadata": {
        "id": "46mZQapmaoly",
        "colab_type": "code",
        "outputId": "5d0de826-0ef1-43b4-c4b2-3fb175a879ef",
        "colab": {
          "base_uri": "https://localhost:8080/",
          "height": 51
        }
      },
      "source": [
        "pred_arg = np.argmax(pred, axis=1)\n",
        "print(pred_arg[:20])\n",
        "print(y_test_org[:20])"
      ],
      "execution_count": 0,
      "outputs": [
        {
          "output_type": "stream",
          "text": [
            "[7 2 1 0 4 1 4 9 6 9 0 6 9 0 1 5 9 7 3 4]\n",
            "[7 2 1 0 4 1 4 9 5 9 0 6 9 0 1 5 9 7 3 4]\n"
          ],
          "name": "stdout"
        }
      ]
    },
    {
      "cell_type": "code",
      "metadata": {
        "id": "dWaY8i8VbIBj",
        "colab_type": "code",
        "outputId": "ad7d0205-68e2-4d74-b27d-361795f87036",
        "colab": {
          "base_uri": "https://localhost:8080/",
          "height": 51
        }
      },
      "source": [
        "true_predicted = pred_arg == y_test_org\n",
        "print(true_predicted[:20])"
      ],
      "execution_count": 0,
      "outputs": [
        {
          "output_type": "stream",
          "text": [
            "[ True  True  True  True  True  True  True  True False  True  True  True\n",
            "  True  True  True  True  True  True  True  True]\n"
          ],
          "name": "stdout"
        }
      ]
    },
    {
      "cell_type": "code",
      "metadata": {
        "id": "L959jaR9bXP6",
        "colab_type": "code",
        "outputId": "1e892b59-ec5a-41c1-91e4-8b5c3289945b",
        "colab": {
          "base_uri": "https://localhost:8080/",
          "height": 34
        }
      },
      "source": [
        "test_acc = true_predicted.sum() / true_predicted.shape[0]\n",
        "print(test_acc)"
      ],
      "execution_count": 0,
      "outputs": [
        {
          "output_type": "stream",
          "text": [
            "0.9806\n"
          ],
          "name": "stdout"
        }
      ]
    },
    {
      "cell_type": "code",
      "metadata": {
        "id": "CqwYdSR5bs2G",
        "colab_type": "code",
        "outputId": "f9c52d4f-bf88-4396-fc5f-230c44b9c6c5",
        "colab": {
          "base_uri": "https://localhost:8080/",
          "height": 34
        }
      },
      "source": [
        "test_acc_ev = model.evaluate(x_test, y_test)"
      ],
      "execution_count": 0,
      "outputs": [
        {
          "output_type": "stream",
          "text": [
            "10000/10000 [==============================] - 1s 65us/sample - loss: 0.1023 - acc: 0.9806\n"
          ],
          "name": "stdout"
        }
      ]
    },
    {
      "cell_type": "code",
      "metadata": {
        "id": "Dli4FQyeb5V4",
        "colab_type": "code",
        "outputId": "18813bb1-1179-407a-c103-e998ed03eb4a",
        "colab": {
          "base_uri": "https://localhost:8080/",
          "height": 34
        }
      },
      "source": [
        "print(test_acc_ev)"
      ],
      "execution_count": 0,
      "outputs": [
        {
          "output_type": "stream",
          "text": [
            "[0.10234338156529044, 0.9806]\n"
          ],
          "name": "stdout"
        }
      ]
    },
    {
      "cell_type": "markdown",
      "metadata": {
        "id": "uFyI8beELi39",
        "colab_type": "text"
      },
      "source": [
        "## Загружаем свою картинку"
      ]
    },
    {
      "cell_type": "code",
      "metadata": {
        "id": "Pbsw3N30LnT2",
        "colab_type": "code",
        "outputId": "33824eb4-1cce-4175-fee0-9e839ffcfc3c",
        "colab": {
          "resources": {
            "http://localhost:8080/nbextensions/google.colab/files.js": {
              "data": "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",
              "ok": true,
              "headers": [
                [
                  "content-type",
                  "application/javascript"
                ]
              ],
              "status": 200,
              "status_text": ""
            }
          },
          "base_uri": "https://localhost:8080/",
          "height": 111
        }
      },
      "source": [
        "#Загружаем файл со своей рукописной цифрой\n",
        "files.upload()"
      ],
      "execution_count": 0,
      "outputs": [
        {
          "output_type": "display_data",
          "data": {
            "text/html": [
              "\n",
              "     <input type=\"file\" id=\"files-df492e39-ad02-46c2-9843-e2aa7b5c2203\" name=\"files[]\" multiple disabled />\n",
              "     <output id=\"result-df492e39-ad02-46c2-9843-e2aa7b5c2203\">\n",
              "      Upload widget is only available when the cell has been executed in the\n",
              "      current browser session. Please rerun this cell to enable.\n",
              "      </output>\n",
              "      <script src=\"/nbextensions/google.colab/files.js\"></script> "
            ],
            "text/plain": [
              "<IPython.core.display.HTML object>"
            ]
          },
          "metadata": {
            "tags": []
          }
        },
        {
          "output_type": "stream",
          "text": [
            "Saving 9.png to 9 (1).png\n"
          ],
          "name": "stdout"
        },
        {
          "output_type": "execute_result",
          "data": {
            "text/plain": [
              "{'9.png': b'\\x89PNG\\r\\n\\x1a\\n\\x00\\x00\\x00\\rIHDR\\x00\\x00\\x00\\x84\\x00\\x00\\x00\\x82\\x08\\x02\\x00\\x00\\x00\\x08\\x7f\\xf7\\xed\\x00\\x00\\x00\\x01sRGB\\x00\\xae\\xce\\x1c\\xe9\\x00\\x00\\x00\\x04gAMA\\x00\\x00\\xb1\\x8f\\x0b\\xfca\\x05\\x00\\x00\\x00\\tpHYs\\x00\\x00\\x0e\\xc3\\x00\\x00\\x0e\\xc3\\x01\\xc7o\\xa8d\\x00\\x00\\x03\\x8bIDATx^\\xed\\x9c\\xedr\\xaa@\\x10D\\xf5\\xbe\\xff;{\\'5\\x94Ed\\x01!\\xf3\\xd13\\xdb\\xe7\\x87Q\\xcb\\x00\\xdb\\x87\\x99\\x05$y\\xbe^\\xaf\\x07\\xc1\\xe0\\xdf\\xf2\\x93\\x00@\\x19@P\\x06\\x10\\x94\\x01\\x04e\\x00A\\x19@P\\x06\\x10\\x94\\x01\\x04e\\x00A\\x19@P\\x06\\x10\\x94\\x01\\x04e\\x00A\\x19@P\\x06\\x103~\\x9f\\xf1|>\\xf5\\t\\xda\\xd8\\xa7\\xab\\x8c\\xb7\\t@z\\xca\\xd8K\\x1c\\xd9\\x84\\xd0P\\x86&.\\x8f\\xe0\\xd1o\\xe9&c+@\\xad\\x08\\xcbk`ZM\\xe0W\\x13\\xe7\\x04\\xee\\xc5\\x8d}\\x1f\\xad\\\\\\x9a\\xc8(\\xd1\\x85N)/C4\\xf40!\\xd4\\x96\\xd1F\\x83Rx\\x02\\xf76\\x11\\x9fLU\\x19a5\\x11\\x99O\\xbd6\\xf53E\\xf4\\xeaNo\\x8a\\xc9\\x88\\xd7\\x10\\xb9\\xc6Jm\\xca)\\x97a\\x02\\xebu\\x85ET\\xa62\\xba\\xb6\\xa65\\x05d\\x88\\x06o\\x13\\xba\\ney+\\x03h\\x191\\xe9\\xe4\\nX\\x03*#F\\x03\\x1ap2\\xe6\\xd4\\xa0`\\xc9\\x98V\\x83\\x02$cr\\x13\\x02\\x8a\\x0cd\\x13a\\xdb\\x96/C\\x86\\x8ac\\xe2}~\\x97r.\\x9c,\\x03G\\x03\\x02\\x992\\xd0L\\xa4_\\x19J\\x93Q\\xab&b\\xb66GF\\t\\x13\\xf1\\x85\\x92 \\x83\\xf3\\xc4\\x1e\\xd12h\\xe2\\x80P\\x194qL\\x9c\\x0c\\x9a8%B\\x86h\\xa0\\x89op\\x97\\x11\\xaf\\xe1\\xdeQP\\xfaI\\x86\\xe0+\\xc3\\xdb\\x04B\\x82\\x868\\xca\\xc8jMu[\\xa2\\x97\\x0c\\xc3D\\xf6v\\xfffe!\\xb8\\xc8\\xb051\\\\Z?\\x13\\x82\\xfb\\x04\\xfeG\\xea\\xf6\\x9c\\x1b\\xd8\\xcb\\x08\\x88\\xafeY\\x08\\xe8\\x95\\xb1\\xa5\\xab\\t\\xc1XF@Y4n\\\\\\xf5*\\xa31\\x94\\x01\\x84\\xb1\\x0cm\\xe8\\xf2\\xa8\\xe8\\x9b\\xb68-\\x16\\x01\\xfb\\xcaX\\x87e\\x1e\\\\c\\x13\\x82o\\x9b\\xb2\\x9dl{\\x9b\\x10\\x1ce\\xd42\\x81p\\x90\\xe6%c8\\xb6\\x1b\\x81\\xca\\xaf(\\xcb\\xeb\\xd6\\xd8\\xcb\\x10\\r[\\x13\\xf7\\x02\\rv0\\xdc\\x81\"1\\x96q\\xaa\\xe1\\xfb|\\xbf\\xffd\\x1b,e\\x0cM,\\xcfV\\xfc\\xc89\\x0b\\xfa\\xf4\\x03-\\xb1\\x94\\xf1}\\x82\\xc7\\r\\xc1j9\\x7f$\\xbek\\xe5\\xfc\\xe9\\xf1\\xc18/m\\x8fy^\\xeb\\xb5\\xaf\\x17\\x1e\\x93\\x92\\xd7\\xd1\\xd4\\x01V&\\xfa\\x91 c\\x88h\\x98\\xdc\\x84\\x00!\\x83\\x1a\\x94\\xda\\xff\\xa3\\xd0o\\xce\\xf8XrLJ(m\\n\\x8a\\x14\\x13Ba\\x19\\xe6e1$\\xb2s\\xb02>\\x89q<\\x842\\x8e\\x08\\x9eP)\\xe3\\x17\\x89e!P\\xc6.\\xc1e!P\\xc6\\x98x\\x13\\x02e\\x0cH1!P\\x06\\x10\\x94\\x01\\x04e\\x00A\\x19\\x9fdM\\x18B\\x1f\\x19\\x89!Z\\xd1\\xaa2\\xaa\\xfb`\\x9b\\x02\\x822\\x80\\xa0\\x8c_\\xe46:\\xca\\x00\\x822\\x80\\xe8&\\xa3\\xf4\\x01Ua\\x19\\rN,>`\\x9b\\x02\\x822\\x80(s\\xdfT\\xbf{A\\xb6\\xa0\\xcb\\x08\\xfeR:7\\r\\xe865\\x95\\t\\x01\\xab2\\x12o\\xce@\\xc8\\x01HF\\xeem2\\x07\\x84E\\x94)\\x036\\xfd!\\x01A\\xa5\\xcd\\x19\\xb5L\\x08\\x01\\x1b\\x9cS\\x19\\xe5L\\xdc\\xe0F\\xb0\\t2f0\\xf1\\xe6R\\xbc<\\x03\\x07\\x822\\x80\\xa0\\x0c/\\xa4A]\\x9d\\x02 d\\\\\\xddhd\\xd4\\x81\\xb0\\xbc\\xbe\\x02\\x84\\x8c\\xa9\\xa6\\xf4\\x03\\x12d\\xdc\\xdbkf \\xed\\x0c\\xbcY5\\x98\\xc4\\xc8\\t\\xdc\\x00\\xab\\x1d:MF\\x9bfe8\\x90\\xe4\\xab\\xb6u\\x9b\\x95Gn\\xc92\\x94\\x12J\\x02\\x82\\x82\\x90\\xa1\\xec)\\xb9\\xb1\\x85\\xdbE\\xad\\x17b\\xb8\"[\\x80d(\\xc3\\xa4\\xaen\\xe4P\\xc6\\x9e\\x03\\x05!\\x078\\x19\\xc2qj\\xb6@\\r\\x1fQ\\x86\\x12\\xa0\\x04m\\xec\\xb82\\x14\\'%\\x98\\xa3F\\x97\\xa1X)A\\xdf\\xf3J\\xc8\\x98\\x04^\\x0e\\x01\\x822\\x80\\xa0\\x0c (\\x03\\x08\\xca\\x00\\x822`x<\\xfe\\x03\\xb1\"q\\xe0C]#\\xef\\x00\\x00\\x00\\x00IEND\\xaeB`\\x82'}"
            ]
          },
          "metadata": {
            "tags": []
          },
          "execution_count": 33
        }
      ]
    },
    {
      "cell_type": "markdown",
      "metadata": {
        "id": "2rXNsnTnMLJO",
        "colab_type": "text"
      },
      "source": [
        "Проверяем загрузку картинки"
      ]
    },
    {
      "cell_type": "code",
      "metadata": {
        "id": "v3y6wbi-MNqs",
        "colab_type": "code",
        "colab": {}
      },
      "source": [
        "!ls"
      ],
      "execution_count": 0,
      "outputs": []
    },
    {
      "cell_type": "markdown",
      "metadata": {
        "id": "F8HQI_X5MUms",
        "colab_type": "text"
      },
      "source": [
        "Загружаем картинку из файла"
      ]
    },
    {
      "cell_type": "code",
      "metadata": {
        "id": "Zfi4L4iYMTLE",
        "colab_type": "code",
        "colab": {}
      },
      "source": [
        "#Указывает путь к файлу\n",
        "img_path = '9 (1).png'\n",
        "#Загружаем картинку, меняем размер на 28х28, формат на оттенки серого\n",
        "img = image.load_img(img_path, target_size=(28, 28), color_mode = \"grayscale\")"
      ],
      "execution_count": 0,
      "outputs": []
    },
    {
      "cell_type": "markdown",
      "metadata": {
        "id": "c2yCw9y1QSL1",
        "colab_type": "text"
      },
      "source": [
        "Показываем картинку"
      ]
    },
    {
      "cell_type": "code",
      "metadata": {
        "id": "BNW4bWUYP8Rt",
        "colab_type": "code",
        "outputId": "e8088ad2-7d67-42f7-a331-f6e6ddcaf654",
        "colab": {
          "base_uri": "https://localhost:8080/",
          "height": 265
        }
      },
      "source": [
        "#Выводим картинку\n",
        "plt.imshow(img.convert('RGBA'))\n",
        "plt.show()"
      ],
      "execution_count": 0,
      "outputs": [
        {
          "output_type": "display_data",
          "data": {
            "image/png": "[encoded data removed]",
            "text/plain": [
              "<Figure size 432x288 with 1 Axes>"
            ]
          },
          "metadata": {
            "tags": []
          }
        }
      ]
    },
    {
      "cell_type": "markdown",
      "metadata": {
        "id": "2fHqp8KbOsJd",
        "colab_type": "text"
      },
      "source": [
        "Преобразуем картинку для обработки нейронной сетью"
      ]
    },
    {
      "cell_type": "code",
      "metadata": {
        "id": "0xsuR1vDNihN",
        "colab_type": "code",
        "colab": {}
      },
      "source": [
        "#Преобразуем картинку в массив\n",
        "x = image.img_to_array(img)\n",
        "#Меняем форму массива в плоский вектор\n",
        "x = x.reshape(1, 784)\n",
        "#Инвертируем изображение, нам надо белое на чёрном фоне\n",
        "x = 255 - x\n",
        "#Нормализуем изображение\n",
        "x /= 255"
      ],
      "execution_count": 0,
      "outputs": []
    },
    {
      "cell_type": "markdown",
      "metadata": {
        "id": "OYpe-m2bNR-8",
        "colab_type": "text"
      },
      "source": [
        "Запускаем распознавание"
      ]
    },
    {
      "cell_type": "code",
      "metadata": {
        "id": "jTUbtYAPNI60",
        "colab_type": "code",
        "colab": {}
      },
      "source": [
        "#Распознаём картинку\n",
        "prediction = model.predict(x)"
      ],
      "execution_count": 0,
      "outputs": []
    },
    {
      "cell_type": "markdown",
      "metadata": {
        "id": "gdDM5wzcRRql",
        "colab_type": "text"
      },
      "source": [
        "Результаты распознавания"
      ]
    },
    {
      "cell_type": "code",
      "metadata": {
        "id": "4qbu45hIMQvk",
        "colab_type": "code",
        "outputId": "f09145f0-e467-4712-a67e-8ea262c8ec52",
        "colab": {
          "base_uri": "https://localhost:8080/",
          "height": 68
        }
      },
      "source": [
        "#Выводим результат\n",
        "prediction"
      ],
      "execution_count": 0,
      "outputs": [
        {
          "output_type": "execute_result",
          "data": {
            "text/plain": [
              "array([[6.4674197e-08, 2.3016312e-04, 2.5580352e-02, 1.7060073e-04,\n",
              "        9.2450554e-11, 2.6249165e-05, 2.0347612e-08, 2.0181624e-06,\n",
              "        9.7399050e-01, 4.4015227e-08]], dtype=float32)"
            ]
          },
          "metadata": {
            "tags": []
          },
          "execution_count": 40
        }
      ]
    },
    {
      "cell_type": "code",
      "metadata": {
        "id": "iOwGOz41PNsV",
        "colab_type": "code",
        "outputId": "1a909396-69a1-4297-e80f-ed3734b49e6d",
        "colab": {
          "base_uri": "https://localhost:8080/",
          "height": 34
        }
      },
      "source": [
        "#Выводим распознанную цифру\n",
        "print(np.argmax(prediction))"
      ],
      "execution_count": 0,
      "outputs": [
        {
          "output_type": "stream",
          "text": [
            "8\n"
          ],
          "name": "stdout"
        }
      ]
    }
  ]
}